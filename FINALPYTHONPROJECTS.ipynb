{
 "cells": [
  {
   "cell_type": "code",
   "execution_count": 1,
   "id": "31b39dec-4e7d-49ba-95f4-35b8602763a0",
   "metadata": {},
   "outputs": [],
   "source": [
    "import pandas as pd\n",
    "import numpy as np\n"
   ]
  },
  {
   "cell_type": "code",
   "execution_count": 10,
   "id": "bb0965ce-d5ec-440d-8222-7e380fff5a31",
   "metadata": {},
   "outputs": [],
   "source": [
    "df = pd.read_excel('cleaned_data.xlsx')"
   ]
  },
  {
   "cell_type": "code",
   "execution_count": 5,
   "id": "7c6135e3-a9e0-4bae-b74c-76052c8316d5",
   "metadata": {},
   "outputs": [
    {
     "data": {
      "text/html": [
       "<div>\n",
       "<style scoped>\n",
       "    .dataframe tbody tr th:only-of-type {\n",
       "        vertical-align: middle;\n",
       "    }\n",
       "\n",
       "    .dataframe tbody tr th {\n",
       "        vertical-align: top;\n",
       "    }\n",
       "\n",
       "    .dataframe thead th {\n",
       "        text-align: right;\n",
       "    }\n",
       "</style>\n",
       "<table border=\"1\" class=\"dataframe\">\n",
       "  <thead>\n",
       "    <tr style=\"text-align: right;\">\n",
       "      <th></th>\n",
       "      <th>Order ID</th>\n",
       "      <th>Customer ID</th>\n",
       "      <th>Restaurant ID</th>\n",
       "      <th>Order Date and Time</th>\n",
       "      <th>Delivery Date and Time</th>\n",
       "      <th>Order Value</th>\n",
       "      <th>Delivery Fee</th>\n",
       "      <th>Payment Method</th>\n",
       "      <th>Discounts and Offers</th>\n",
       "      <th>Commission Fee</th>\n",
       "      <th>Payment Processing Fee</th>\n",
       "      <th>Refunds/Chargebacks</th>\n",
       "      <th>total_revenue</th>\n",
       "      <th>total_Rrevenue</th>\n",
       "    </tr>\n",
       "  </thead>\n",
       "  <tbody>\n",
       "    <tr>\n",
       "      <th>0</th>\n",
       "      <td>1</td>\n",
       "      <td>C8270</td>\n",
       "      <td>R2924</td>\n",
       "      <td>2024-02-01 02:39:52</td>\n",
       "      <td>2024-02-01 02:39:52</td>\n",
       "      <td>1914</td>\n",
       "      <td>0</td>\n",
       "      <td>Credit Card</td>\n",
       "      <td>5% on App</td>\n",
       "      <td>150</td>\n",
       "      <td>47</td>\n",
       "      <td>0</td>\n",
       "      <td>1914</td>\n",
       "      <td>1914</td>\n",
       "    </tr>\n",
       "    <tr>\n",
       "      <th>1</th>\n",
       "      <td>2</td>\n",
       "      <td>C1860</td>\n",
       "      <td>R2054</td>\n",
       "      <td>2024-02-02 22:46:04</td>\n",
       "      <td>2024-02-02 22:46:04</td>\n",
       "      <td>986</td>\n",
       "      <td>40</td>\n",
       "      <td>Digital Wallet</td>\n",
       "      <td>10%</td>\n",
       "      <td>198</td>\n",
       "      <td>23</td>\n",
       "      <td>0</td>\n",
       "      <td>1026</td>\n",
       "      <td>1026</td>\n",
       "    </tr>\n",
       "    <tr>\n",
       "      <th>2</th>\n",
       "      <td>3</td>\n",
       "      <td>C6390</td>\n",
       "      <td>R2870</td>\n",
       "      <td>2024-01-31 06:52:35</td>\n",
       "      <td>2024-01-31 06:52:35</td>\n",
       "      <td>937</td>\n",
       "      <td>30</td>\n",
       "      <td>Cash on Delivery</td>\n",
       "      <td>15% New User</td>\n",
       "      <td>195</td>\n",
       "      <td>45</td>\n",
       "      <td>0</td>\n",
       "      <td>967</td>\n",
       "      <td>967</td>\n",
       "    </tr>\n",
       "    <tr>\n",
       "      <th>3</th>\n",
       "      <td>5</td>\n",
       "      <td>C6734</td>\n",
       "      <td>R2799</td>\n",
       "      <td>2024-01-29 02:48:30</td>\n",
       "      <td>2024-01-29 02:48:30</td>\n",
       "      <td>1992</td>\n",
       "      <td>30</td>\n",
       "      <td>Cash on Delivery</td>\n",
       "      <td>50 off Promo</td>\n",
       "      <td>130</td>\n",
       "      <td>50</td>\n",
       "      <td>0</td>\n",
       "      <td>2022</td>\n",
       "      <td>2022</td>\n",
       "    </tr>\n",
       "    <tr>\n",
       "      <th>4</th>\n",
       "      <td>6</td>\n",
       "      <td>C7265</td>\n",
       "      <td>R2777</td>\n",
       "      <td>2024-01-25 05:27:52</td>\n",
       "      <td>2024-01-25 05:27:52</td>\n",
       "      <td>439</td>\n",
       "      <td>20</td>\n",
       "      <td>Cash on Delivery</td>\n",
       "      <td>10%</td>\n",
       "      <td>92</td>\n",
       "      <td>27</td>\n",
       "      <td>150</td>\n",
       "      <td>459</td>\n",
       "      <td>459</td>\n",
       "    </tr>\n",
       "    <tr>\n",
       "      <th>...</th>\n",
       "      <td>...</td>\n",
       "      <td>...</td>\n",
       "      <td>...</td>\n",
       "      <td>...</td>\n",
       "      <td>...</td>\n",
       "      <td>...</td>\n",
       "      <td>...</td>\n",
       "      <td>...</td>\n",
       "      <td>...</td>\n",
       "      <td>...</td>\n",
       "      <td>...</td>\n",
       "      <td>...</td>\n",
       "      <td>...</td>\n",
       "      <td>...</td>\n",
       "    </tr>\n",
       "    <tr>\n",
       "      <th>810</th>\n",
       "      <td>994</td>\n",
       "      <td>C7645</td>\n",
       "      <td>R2984</td>\n",
       "      <td>2024-01-28 21:49:29</td>\n",
       "      <td>2024-01-28 21:49:29</td>\n",
       "      <td>1078</td>\n",
       "      <td>0</td>\n",
       "      <td>Digital Wallet</td>\n",
       "      <td>50 off Promo</td>\n",
       "      <td>57</td>\n",
       "      <td>50</td>\n",
       "      <td>0</td>\n",
       "      <td>1078</td>\n",
       "      <td>1078</td>\n",
       "    </tr>\n",
       "    <tr>\n",
       "      <th>811</th>\n",
       "      <td>995</td>\n",
       "      <td>C6083</td>\n",
       "      <td>R2083</td>\n",
       "      <td>2024-01-07 14:16:48</td>\n",
       "      <td>2024-01-07 14:16:48</td>\n",
       "      <td>515</td>\n",
       "      <td>50</td>\n",
       "      <td>Cash on Delivery</td>\n",
       "      <td>5% on App</td>\n",
       "      <td>65</td>\n",
       "      <td>37</td>\n",
       "      <td>0</td>\n",
       "      <td>565</td>\n",
       "      <td>565</td>\n",
       "    </tr>\n",
       "    <tr>\n",
       "      <th>812</th>\n",
       "      <td>996</td>\n",
       "      <td>C6232</td>\n",
       "      <td>R2129</td>\n",
       "      <td>2024-01-14 06:39:00</td>\n",
       "      <td>2024-01-14 06:39:00</td>\n",
       "      <td>825</td>\n",
       "      <td>0</td>\n",
       "      <td>Digital Wallet</td>\n",
       "      <td>5% on App</td>\n",
       "      <td>165</td>\n",
       "      <td>47</td>\n",
       "      <td>50</td>\n",
       "      <td>825</td>\n",
       "      <td>825</td>\n",
       "    </tr>\n",
       "    <tr>\n",
       "      <th>813</th>\n",
       "      <td>999</td>\n",
       "      <td>C7016</td>\n",
       "      <td>R2144</td>\n",
       "      <td>2024-01-31 00:07:38</td>\n",
       "      <td>2024-01-31 00:07:38</td>\n",
       "      <td>1414</td>\n",
       "      <td>0</td>\n",
       "      <td>Cash on Delivery</td>\n",
       "      <td>15% New User</td>\n",
       "      <td>199</td>\n",
       "      <td>34</td>\n",
       "      <td>0</td>\n",
       "      <td>1414</td>\n",
       "      <td>1414</td>\n",
       "    </tr>\n",
       "    <tr>\n",
       "      <th>814</th>\n",
       "      <td>1000</td>\n",
       "      <td>C4335</td>\n",
       "      <td>R2890</td>\n",
       "      <td>2024-01-08 15:39:43</td>\n",
       "      <td>2024-01-08 15:39:43</td>\n",
       "      <td>1657</td>\n",
       "      <td>20</td>\n",
       "      <td>Digital Wallet</td>\n",
       "      <td>15% New User</td>\n",
       "      <td>180</td>\n",
       "      <td>27</td>\n",
       "      <td>100</td>\n",
       "      <td>1677</td>\n",
       "      <td>1677</td>\n",
       "    </tr>\n",
       "  </tbody>\n",
       "</table>\n",
       "<p>815 rows × 14 columns</p>\n",
       "</div>"
      ],
      "text/plain": [
       "     Order ID Customer ID Restaurant ID Order Date and Time  \\\n",
       "0           1       C8270         R2924 2024-02-01 02:39:52   \n",
       "1           2       C1860         R2054 2024-02-02 22:46:04   \n",
       "2           3       C6390         R2870 2024-01-31 06:52:35   \n",
       "3           5       C6734         R2799 2024-01-29 02:48:30   \n",
       "4           6       C7265         R2777 2024-01-25 05:27:52   \n",
       "..        ...         ...           ...                 ...   \n",
       "810       994       C7645         R2984 2024-01-28 21:49:29   \n",
       "811       995       C6083         R2083 2024-01-07 14:16:48   \n",
       "812       996       C6232         R2129 2024-01-14 06:39:00   \n",
       "813       999       C7016         R2144 2024-01-31 00:07:38   \n",
       "814      1000       C4335         R2890 2024-01-08 15:39:43   \n",
       "\n",
       "    Delivery Date and Time  Order Value  Delivery Fee    Payment Method  \\\n",
       "0      2024-02-01 02:39:52         1914             0       Credit Card   \n",
       "1      2024-02-02 22:46:04          986            40    Digital Wallet   \n",
       "2      2024-01-31 06:52:35          937            30  Cash on Delivery   \n",
       "3      2024-01-29 02:48:30         1992            30  Cash on Delivery   \n",
       "4      2024-01-25 05:27:52          439            20  Cash on Delivery   \n",
       "..                     ...          ...           ...               ...   \n",
       "810    2024-01-28 21:49:29         1078             0    Digital Wallet   \n",
       "811    2024-01-07 14:16:48          515            50  Cash on Delivery   \n",
       "812    2024-01-14 06:39:00          825             0    Digital Wallet   \n",
       "813    2024-01-31 00:07:38         1414             0  Cash on Delivery   \n",
       "814    2024-01-08 15:39:43         1657            20    Digital Wallet   \n",
       "\n",
       "    Discounts and Offers  Commission Fee  Payment Processing Fee  \\\n",
       "0              5% on App             150                      47   \n",
       "1                    10%             198                      23   \n",
       "2           15% New User             195                      45   \n",
       "3           50 off Promo             130                      50   \n",
       "4                    10%              92                      27   \n",
       "..                   ...             ...                     ...   \n",
       "810         50 off Promo              57                      50   \n",
       "811            5% on App              65                      37   \n",
       "812            5% on App             165                      47   \n",
       "813         15% New User             199                      34   \n",
       "814         15% New User             180                      27   \n",
       "\n",
       "     Refunds/Chargebacks  total_revenue  total_Rrevenue  \n",
       "0                      0           1914            1914  \n",
       "1                      0           1026            1026  \n",
       "2                      0            967             967  \n",
       "3                      0           2022            2022  \n",
       "4                    150            459             459  \n",
       "..                   ...            ...             ...  \n",
       "810                    0           1078            1078  \n",
       "811                    0            565             565  \n",
       "812                   50            825             825  \n",
       "813                    0           1414            1414  \n",
       "814                  100           1677            1677  \n",
       "\n",
       "[815 rows x 14 columns]"
      ]
     },
     "execution_count": 5,
     "metadata": {},
     "output_type": "execute_result"
    }
   ],
   "source": [
    "df"
   ]
  },
  {
   "cell_type": "markdown",
   "id": "e61c27ee-59d8-4401-9af5-a03120f123c7",
   "metadata": {},
   "source": [
    "### TREND ANALYSIS OVERTIME"
   ]
  },
  {
   "cell_type": "markdown",
   "id": "2ccaa7d3-fc77-468a-9c16-f9bc24febb1b",
   "metadata": {},
   "source": [
    "### STEP 1:ENSURE DATE COLUMNS IS IN DATETIME FORMAT\n",
    "### CONVERT DATE COLUMN TO DATE TIME FORMAT\n",
    "### STEP 2: GROUP BY WEEK AND COUNT ORDERS\n",
    "### RENAME THE COLUMN\n",
    "### STEP 3:VIEW RESULT:PRINT(ORDER PER WEEK)"
   ]
  },
  {
   "cell_type": "code",
   "execution_count": 23,
   "id": "510351e8-8814-422a-aaa0-569c937b891b",
   "metadata": {},
   "outputs": [
    {
     "data": {
      "text/html": [
       "<div>\n",
       "<style scoped>\n",
       "    .dataframe tbody tr th:only-of-type {\n",
       "        vertical-align: middle;\n",
       "    }\n",
       "\n",
       "    .dataframe tbody tr th {\n",
       "        vertical-align: top;\n",
       "    }\n",
       "\n",
       "    .dataframe thead th {\n",
       "        text-align: right;\n",
       "    }\n",
       "</style>\n",
       "<table border=\"1\" class=\"dataframe\">\n",
       "  <thead>\n",
       "    <tr style=\"text-align: right;\">\n",
       "      <th></th>\n",
       "      <th>Order ID</th>\n",
       "      <th>Customer ID</th>\n",
       "      <th>Restaurant ID</th>\n",
       "      <th>Order Date and Time</th>\n",
       "      <th>Delivery Date and Time</th>\n",
       "      <th>Order Value</th>\n",
       "      <th>Delivery Fee</th>\n",
       "      <th>Payment Method</th>\n",
       "      <th>Discounts and Offers</th>\n",
       "      <th>Commission Fee</th>\n",
       "      <th>Payment Processing Fee</th>\n",
       "      <th>Refunds/Chargebacks</th>\n",
       "      <th>total_revenue</th>\n",
       "      <th>total_Rrevenue</th>\n",
       "    </tr>\n",
       "  </thead>\n",
       "  <tbody>\n",
       "    <tr>\n",
       "      <th>0</th>\n",
       "      <td>1</td>\n",
       "      <td>C8270</td>\n",
       "      <td>R2924</td>\n",
       "      <td>2024-02-01 02:39:52</td>\n",
       "      <td>2024-02-01 02:39:52</td>\n",
       "      <td>1914</td>\n",
       "      <td>0</td>\n",
       "      <td>Credit Card</td>\n",
       "      <td>5% on App</td>\n",
       "      <td>150</td>\n",
       "      <td>47</td>\n",
       "      <td>0</td>\n",
       "      <td>1914</td>\n",
       "      <td>1914</td>\n",
       "    </tr>\n",
       "    <tr>\n",
       "      <th>1</th>\n",
       "      <td>2</td>\n",
       "      <td>C1860</td>\n",
       "      <td>R2054</td>\n",
       "      <td>2024-02-02 22:46:04</td>\n",
       "      <td>2024-02-02 22:46:04</td>\n",
       "      <td>986</td>\n",
       "      <td>40</td>\n",
       "      <td>Digital Wallet</td>\n",
       "      <td>10%</td>\n",
       "      <td>198</td>\n",
       "      <td>23</td>\n",
       "      <td>0</td>\n",
       "      <td>1026</td>\n",
       "      <td>1026</td>\n",
       "    </tr>\n",
       "    <tr>\n",
       "      <th>2</th>\n",
       "      <td>3</td>\n",
       "      <td>C6390</td>\n",
       "      <td>R2870</td>\n",
       "      <td>2024-01-31 06:52:35</td>\n",
       "      <td>2024-01-31 06:52:35</td>\n",
       "      <td>937</td>\n",
       "      <td>30</td>\n",
       "      <td>Cash on Delivery</td>\n",
       "      <td>15% New User</td>\n",
       "      <td>195</td>\n",
       "      <td>45</td>\n",
       "      <td>0</td>\n",
       "      <td>967</td>\n",
       "      <td>967</td>\n",
       "    </tr>\n",
       "    <tr>\n",
       "      <th>3</th>\n",
       "      <td>5</td>\n",
       "      <td>C6734</td>\n",
       "      <td>R2799</td>\n",
       "      <td>2024-01-29 02:48:30</td>\n",
       "      <td>2024-01-29 02:48:30</td>\n",
       "      <td>1992</td>\n",
       "      <td>30</td>\n",
       "      <td>Cash on Delivery</td>\n",
       "      <td>50 off Promo</td>\n",
       "      <td>130</td>\n",
       "      <td>50</td>\n",
       "      <td>0</td>\n",
       "      <td>2022</td>\n",
       "      <td>2022</td>\n",
       "    </tr>\n",
       "    <tr>\n",
       "      <th>4</th>\n",
       "      <td>6</td>\n",
       "      <td>C7265</td>\n",
       "      <td>R2777</td>\n",
       "      <td>2024-01-25 05:27:52</td>\n",
       "      <td>2024-01-25 05:27:52</td>\n",
       "      <td>439</td>\n",
       "      <td>20</td>\n",
       "      <td>Cash on Delivery</td>\n",
       "      <td>10%</td>\n",
       "      <td>92</td>\n",
       "      <td>27</td>\n",
       "      <td>150</td>\n",
       "      <td>459</td>\n",
       "      <td>459</td>\n",
       "    </tr>\n",
       "    <tr>\n",
       "      <th>...</th>\n",
       "      <td>...</td>\n",
       "      <td>...</td>\n",
       "      <td>...</td>\n",
       "      <td>...</td>\n",
       "      <td>...</td>\n",
       "      <td>...</td>\n",
       "      <td>...</td>\n",
       "      <td>...</td>\n",
       "      <td>...</td>\n",
       "      <td>...</td>\n",
       "      <td>...</td>\n",
       "      <td>...</td>\n",
       "      <td>...</td>\n",
       "      <td>...</td>\n",
       "    </tr>\n",
       "    <tr>\n",
       "      <th>810</th>\n",
       "      <td>994</td>\n",
       "      <td>C7645</td>\n",
       "      <td>R2984</td>\n",
       "      <td>2024-01-28 21:49:29</td>\n",
       "      <td>2024-01-28 21:49:29</td>\n",
       "      <td>1078</td>\n",
       "      <td>0</td>\n",
       "      <td>Digital Wallet</td>\n",
       "      <td>50 off Promo</td>\n",
       "      <td>57</td>\n",
       "      <td>50</td>\n",
       "      <td>0</td>\n",
       "      <td>1078</td>\n",
       "      <td>1078</td>\n",
       "    </tr>\n",
       "    <tr>\n",
       "      <th>811</th>\n",
       "      <td>995</td>\n",
       "      <td>C6083</td>\n",
       "      <td>R2083</td>\n",
       "      <td>2024-01-07 14:16:48</td>\n",
       "      <td>2024-01-07 14:16:48</td>\n",
       "      <td>515</td>\n",
       "      <td>50</td>\n",
       "      <td>Cash on Delivery</td>\n",
       "      <td>5% on App</td>\n",
       "      <td>65</td>\n",
       "      <td>37</td>\n",
       "      <td>0</td>\n",
       "      <td>565</td>\n",
       "      <td>565</td>\n",
       "    </tr>\n",
       "    <tr>\n",
       "      <th>812</th>\n",
       "      <td>996</td>\n",
       "      <td>C6232</td>\n",
       "      <td>R2129</td>\n",
       "      <td>2024-01-14 06:39:00</td>\n",
       "      <td>2024-01-14 06:39:00</td>\n",
       "      <td>825</td>\n",
       "      <td>0</td>\n",
       "      <td>Digital Wallet</td>\n",
       "      <td>5% on App</td>\n",
       "      <td>165</td>\n",
       "      <td>47</td>\n",
       "      <td>50</td>\n",
       "      <td>825</td>\n",
       "      <td>825</td>\n",
       "    </tr>\n",
       "    <tr>\n",
       "      <th>813</th>\n",
       "      <td>999</td>\n",
       "      <td>C7016</td>\n",
       "      <td>R2144</td>\n",
       "      <td>2024-01-31 00:07:38</td>\n",
       "      <td>2024-01-31 00:07:38</td>\n",
       "      <td>1414</td>\n",
       "      <td>0</td>\n",
       "      <td>Cash on Delivery</td>\n",
       "      <td>15% New User</td>\n",
       "      <td>199</td>\n",
       "      <td>34</td>\n",
       "      <td>0</td>\n",
       "      <td>1414</td>\n",
       "      <td>1414</td>\n",
       "    </tr>\n",
       "    <tr>\n",
       "      <th>814</th>\n",
       "      <td>1000</td>\n",
       "      <td>C4335</td>\n",
       "      <td>R2890</td>\n",
       "      <td>2024-01-08 15:39:43</td>\n",
       "      <td>2024-01-08 15:39:43</td>\n",
       "      <td>1657</td>\n",
       "      <td>20</td>\n",
       "      <td>Digital Wallet</td>\n",
       "      <td>15% New User</td>\n",
       "      <td>180</td>\n",
       "      <td>27</td>\n",
       "      <td>100</td>\n",
       "      <td>1677</td>\n",
       "      <td>1677</td>\n",
       "    </tr>\n",
       "  </tbody>\n",
       "</table>\n",
       "<p>815 rows × 14 columns</p>\n",
       "</div>"
      ],
      "text/plain": [
       "     Order ID Customer ID Restaurant ID Order Date and Time  \\\n",
       "0           1       C8270         R2924 2024-02-01 02:39:52   \n",
       "1           2       C1860         R2054 2024-02-02 22:46:04   \n",
       "2           3       C6390         R2870 2024-01-31 06:52:35   \n",
       "3           5       C6734         R2799 2024-01-29 02:48:30   \n",
       "4           6       C7265         R2777 2024-01-25 05:27:52   \n",
       "..        ...         ...           ...                 ...   \n",
       "810       994       C7645         R2984 2024-01-28 21:49:29   \n",
       "811       995       C6083         R2083 2024-01-07 14:16:48   \n",
       "812       996       C6232         R2129 2024-01-14 06:39:00   \n",
       "813       999       C7016         R2144 2024-01-31 00:07:38   \n",
       "814      1000       C4335         R2890 2024-01-08 15:39:43   \n",
       "\n",
       "    Delivery Date and Time  Order Value  Delivery Fee    Payment Method  \\\n",
       "0      2024-02-01 02:39:52         1914             0       Credit Card   \n",
       "1      2024-02-02 22:46:04          986            40    Digital Wallet   \n",
       "2      2024-01-31 06:52:35          937            30  Cash on Delivery   \n",
       "3      2024-01-29 02:48:30         1992            30  Cash on Delivery   \n",
       "4      2024-01-25 05:27:52          439            20  Cash on Delivery   \n",
       "..                     ...          ...           ...               ...   \n",
       "810    2024-01-28 21:49:29         1078             0    Digital Wallet   \n",
       "811    2024-01-07 14:16:48          515            50  Cash on Delivery   \n",
       "812    2024-01-14 06:39:00          825             0    Digital Wallet   \n",
       "813    2024-01-31 00:07:38         1414             0  Cash on Delivery   \n",
       "814    2024-01-08 15:39:43         1657            20    Digital Wallet   \n",
       "\n",
       "    Discounts and Offers  Commission Fee  Payment Processing Fee  \\\n",
       "0              5% on App             150                      47   \n",
       "1                    10%             198                      23   \n",
       "2           15% New User             195                      45   \n",
       "3           50 off Promo             130                      50   \n",
       "4                    10%              92                      27   \n",
       "..                   ...             ...                     ...   \n",
       "810         50 off Promo              57                      50   \n",
       "811            5% on App              65                      37   \n",
       "812            5% on App             165                      47   \n",
       "813         15% New User             199                      34   \n",
       "814         15% New User             180                      27   \n",
       "\n",
       "     Refunds/Chargebacks  total_revenue  total_Rrevenue  \n",
       "0                      0           1914            1914  \n",
       "1                      0           1026            1026  \n",
       "2                      0            967             967  \n",
       "3                      0           2022            2022  \n",
       "4                    150            459             459  \n",
       "..                   ...            ...             ...  \n",
       "810                    0           1078            1078  \n",
       "811                    0            565             565  \n",
       "812                   50            825             825  \n",
       "813                    0           1414            1414  \n",
       "814                  100           1677            1677  \n",
       "\n",
       "[815 rows x 14 columns]"
      ]
     },
     "execution_count": 23,
     "metadata": {},
     "output_type": "execute_result"
    }
   ],
   "source": [
    "Order_per_week = df.groupby(df['Order Date and Time'].dt.to_period('W'))['Order ID'].count().reset_index()\n",
    "df"
   ]
  },
  {
   "cell_type": "code",
   "execution_count": 25,
   "id": "f1469ef5-15e7-4812-b6fe-cdadda721d30",
   "metadata": {},
   "outputs": [],
   "source": [
    "Order_per_week.columns = ['Week','Order']"
   ]
  },
  {
   "cell_type": "code",
   "execution_count": 29,
   "id": "0be027ca-1d3c-42aa-9e93-37fd118be516",
   "metadata": {},
   "outputs": [
    {
     "name": "stdout",
     "output_type": "stream",
     "text": [
      "                    Week  Order\n",
      "0  2024-01-01/2024-01-07    132\n",
      "1  2024-01-08/2024-01-14    149\n",
      "2  2024-01-15/2024-01-21    170\n",
      "3  2024-01-22/2024-01-28    140\n",
      "4  2024-01-29/2024-02-04    155\n",
      "5  2024-02-05/2024-02-11     69\n"
     ]
    }
   ],
   "source": [
    "print(Order_per_week)"
   ]
  },
  {
   "cell_type": "markdown",
   "id": "bc08747c-e81a-41b6-93aa-51eca28f6b8c",
   "metadata": {},
   "source": [
    "### VISUALIZING THE TREND USING MAT PLOT LIBRARY\n"
   ]
  },
  {
   "cell_type": "code",
   "execution_count": 34,
   "id": "e6529e52-f850-4b36-a7fc-5f0d03ec96b2",
   "metadata": {},
   "outputs": [],
   "source": [
    "import matplotlib.pyplot as plt"
   ]
  },
  {
   "cell_type": "code",
   "execution_count": 38,
   "id": "3b3d572c-ccb1-4935-9735-0fc1a06445a6",
   "metadata": {},
   "outputs": [
    {
     "data": {
      "image/png": "[encoded data removed]",
      "text/plain": [
       "<Figure size 1000x600 with 1 Axes>"
      ]
     },
     "metadata": {},
     "output_type": "display_data"
    }
   ],
   "source": [
    "plt.figure(figsize = (10,6))\n",
    "plt.plot(Order_per_week['Week'].astype(str),Order_per_week['Order'])\n",
    "plt.xlabel('Week')\n",
    "plt.ylabel('Order')\n",
    "plt.title('Order per Week')\n",
    "plt.xticks(rotation = 45)\n",
    "plt.show()"
   ]
  },
  {
   "cell_type": "code",
   "execution_count": null,
   "id": "64ab760f-2875-43b4-84ac-892f4cf7b49f",
   "metadata": {},
   "outputs": [],
   "source": []
  },
  {
   "cell_type": "markdown",
   "id": "51493c27-401a-48a4-b76f-afdfaec55eef",
   "metadata": {},
   "source": [
    "### REVENUE ANALYSIS\n",
    "### STEP 1:CALCULATE THE TOTAL REVENUE: CALCULATE BY ADDING THE ORDER VALUE AND DELIVERY FEE\n",
    "### STEP 2:GROUPBY PAYMENT METHOD AND CALCULATE TOTAL REVENUE\n",
    "### FIND THE MOST PROFITABLE PAYMENT METHOD\n"
   ]
  },
  {
   "cell_type": "code",
   "execution_count": 46,
   "id": "4f558835-417e-4d41-98de-a18593fbac37",
   "metadata": {},
   "outputs": [],
   "source": [
    "df['total_Revenue'] = df['Order Value'] +df ['Delivery Fee']"
   ]
  },
  {
   "cell_type": "code",
   "execution_count": 50,
   "id": "a45da39d-fcee-43fb-bc73-d0a71e45557f",
   "metadata": {},
   "outputs": [
    {
     "data": {
      "text/plain": [
       "0      1914\n",
       "1      1026\n",
       "2       967\n",
       "3      2022\n",
       "4       459\n",
       "       ... \n",
       "810    1078\n",
       "811     565\n",
       "812     825\n",
       "813    1414\n",
       "814    1677\n",
       "Length: 815, dtype: int64"
      ]
     },
     "execution_count": 50,
     "metadata": {},
     "output_type": "execute_result"
    }
   ],
   "source": [
    "total_revenue = df['Order Value'] + df['Delivery Fee']\n",
    "total_revenue"
   ]
  },
  {
   "cell_type": "code",
   "execution_count": 52,
   "id": "194faa96-583f-4f8e-8c71-fd88ee22ef77",
   "metadata": {},
   "outputs": [],
   "source": [
    "total_revenue_per_method = df.groupby('Payment Method')['total_revenue'].sum().reset_index()"
   ]
  },
  {
   "cell_type": "code",
   "execution_count": 54,
   "id": "52ceb969-b23b-4563-b934-51476e8b109a",
   "metadata": {},
   "outputs": [],
   "source": [
    "total_revenue_per_method.columns = ['Payment Method','total_revenue']"
   ]
  },
  {
   "cell_type": "code",
   "execution_count": 58,
   "id": "bf6c40ee-3ed5-420d-aef1-118cdcc4bc49",
   "metadata": {},
   "outputs": [
    {
     "name": "stdout",
     "output_type": "stream",
     "text": [
      "     Payment Method  total_revenue\n",
      "0  Cash on Delivery         316224\n",
      "1       Credit Card         300418\n",
      "2    Digital Wallet         266580\n"
     ]
    }
   ],
   "source": [
    "print(total_revenue_per_method)"
   ]
  },
  {
   "cell_type": "code",
   "execution_count": 72,
   "id": "f7022b84-a027-4d3d-99ad-275d3233ed4e",
   "metadata": {},
   "outputs": [],
   "source": [
    "most_profitable_payment_method = [total_revenue_per_method.loc[total_revenue_per_method['total_revenue'].idxmax()]]"
   ]
  },
  {
   "cell_type": "code",
   "execution_count": 74,
   "id": "65bf4203-5797-4c0b-b207-54e670c6c088",
   "metadata": {},
   "outputs": [
    {
     "data": {
      "text/plain": [
       "[Payment Method    Cash on Delivery\n",
       " total_revenue               316224\n",
       " Name: 0, dtype: object]"
      ]
     },
     "execution_count": 74,
     "metadata": {},
     "output_type": "execute_result"
    }
   ],
   "source": [
    "most_profitable_payment_method"
   ]
  },
  {
   "cell_type": "markdown",
   "id": "dedfc4db-ab48-4025-8f40-a9b2ccf0a7eb",
   "metadata": {},
   "source": [
    "###  CUSTOMER BEHAVIOUR ANALYSIS"
   ]
  },
  {
   "cell_type": "markdown",
   "id": "8b99bfd0-ffc0-4cbb-8053-63d5edfc5586",
   "metadata": {},
   "source": [
    "### STEP1: GROUPBY CUSTOMER AND COUNT ORDERS\n",
    "### FIND CUSTOMER WITH THE HIGHEST NUMBER OF ORDERS\n",
    "### PRINT(F\"THE CUSTOMER WITH THE HIGHEST NUMBER OF ORDERS IS CUSTOMER{TOP CUSTOMER['CUSTOMER ID']} WITH {TOP CUSTOMER['TOTAL ORDERS']}ORDERS.\")\n",
    "### STEP3:CALCULATE TOTAL SPENDING OF THE TOP CUSTOMER\n",
    "### PRINT(F'CUSTOMER['CUSTOMER ID']}SPENT A TOTAL OF ['TOP CUSTOMER SPENDING.')"
   ]
  },
  {
   "cell_type": "code",
   "execution_count": 64,
   "id": "2614c583-a0e2-43e1-850d-7696dc8d1bbe",
   "metadata": {},
   "outputs": [],
   "source": [
    "Order_per_Customer = df.groupby('Customer ID')['Order Value'].count().reset_index()"
   ]
  },
  {
   "cell_type": "code",
   "execution_count": 66,
   "id": "704e8047-e8e6-40f7-b149-3a226fe2b11d",
   "metadata": {},
   "outputs": [],
   "source": [
    "Order_per_Customer.columns = ['Customer ID','total_orders']"
   ]
  },
  {
   "cell_type": "code",
   "execution_count": 68,
   "id": "07b470a4-8a09-4e7c-af7f-e6c5ffae2b03",
   "metadata": {},
   "outputs": [
    {
     "data": {
      "text/html": [
       "<div>\n",
       "<style scoped>\n",
       "    .dataframe tbody tr th:only-of-type {\n",
       "        vertical-align: middle;\n",
       "    }\n",
       "\n",
       "    .dataframe tbody tr th {\n",
       "        vertical-align: top;\n",
       "    }\n",
       "\n",
       "    .dataframe thead th {\n",
       "        text-align: right;\n",
       "    }\n",
       "</style>\n",
       "<table border=\"1\" class=\"dataframe\">\n",
       "  <thead>\n",
       "    <tr style=\"text-align: right;\">\n",
       "      <th></th>\n",
       "      <th>Customer ID</th>\n",
       "      <th>total_revenue</th>\n",
       "      <th>Order ID</th>\n",
       "    </tr>\n",
       "  </thead>\n",
       "  <tbody>\n",
       "    <tr>\n",
       "      <th>641</th>\n",
       "      <td>C8266</td>\n",
       "      <td>3763</td>\n",
       "      <td>2</td>\n",
       "    </tr>\n",
       "    <tr>\n",
       "      <th>377</th>\n",
       "      <td>C5555</td>\n",
       "      <td>3734</td>\n",
       "      <td>2</td>\n",
       "    </tr>\n",
       "    <tr>\n",
       "      <th>492</th>\n",
       "      <td>C6732</td>\n",
       "      <td>3280</td>\n",
       "      <td>2</td>\n",
       "    </tr>\n",
       "    <tr>\n",
       "      <th>465</th>\n",
       "      <td>C6486</td>\n",
       "      <td>3149</td>\n",
       "      <td>2</td>\n",
       "    </tr>\n",
       "    <tr>\n",
       "      <th>255</th>\n",
       "      <td>C4170</td>\n",
       "      <td>3022</td>\n",
       "      <td>2</td>\n",
       "    </tr>\n",
       "  </tbody>\n",
       "</table>\n",
       "</div>"
      ],
      "text/plain": [
       "    Customer ID  total_revenue  Order ID\n",
       "641       C8266           3763         2\n",
       "377       C5555           3734         2\n",
       "492       C6732           3280         2\n",
       "465       C6486           3149         2\n",
       "255       C4170           3022         2"
      ]
     },
     "execution_count": 68,
     "metadata": {},
     "output_type": "execute_result"
    }
   ],
   "source": [
    "customerSpending= df.groupby('Customer ID').agg({'total_revenue':'sum','Order ID':'count'}).reset_index()\n",
    "\n",
    "customerSpending.sort_values(by='total_revenue', ascending = False).head()"
   ]
  },
  {
   "cell_type": "code",
   "execution_count": 70,
   "id": "0348d5b3-0cfb-47d4-9fdf-946e689bc01b",
   "metadata": {},
   "outputs": [
    {
     "name": "stdout",
     "output_type": "stream",
     "text": [
      "    Customer ID  total_orders\n",
      "0         C1004             1\n",
      "1         C1005             1\n",
      "2         C1009             1\n",
      "3         C1064             1\n",
      "4         C1077             1\n",
      "..          ...           ...\n",
      "780       C9932             1\n",
      "781       C9945             1\n",
      "782       C9958             1\n",
      "783       C9967             1\n",
      "784       C9996             1\n",
      "\n",
      "[785 rows x 2 columns]\n"
     ]
    }
   ],
   "source": [
    "print(Order_per_Customer)"
   ]
  },
  {
   "cell_type": "code",
   "execution_count": null,
   "id": "d9ca381e-84cd-4fcd-8840-7bc4d22b4d84",
   "metadata": {},
   "outputs": [],
   "source": []
  },
  {
   "cell_type": "code",
   "execution_count": null,
   "id": "077edc61-32b4-4eaf-9b81-dea592b03b97",
   "metadata": {},
   "outputs": [],
   "source": []
  },
  {
   "cell_type": "markdown",
   "id": "2bcddb52-4c7a-43f4-83c2-5d63394e4173",
   "metadata": {},
   "source": [
    "### DISCOUNTS IMPACT ANALYSIS\n",
    "### STEP1: GROUP BY DISCOUNTS TYPE\n",
    "### STEP2; VIEW RESULT"
   ]
  },
  {
   "cell_type": "code",
   "execution_count": 79,
   "id": "8cee35eb-a1ba-411f-85ea-dee77e8e07a7",
   "metadata": {},
   "outputs": [],
   "source": [
    "average_order_value_per_discount_type = df.groupby('Discounts and Offers')['Order Value'].mean().reset_index()"
   ]
  },
  {
   "cell_type": "code",
   "execution_count": 81,
   "id": "3d4cf935-5884-4702-af3c-704d0519576f",
   "metadata": {},
   "outputs": [
    {
     "name": "stdout",
     "output_type": "stream",
     "text": [
      "  Discounts and Offers  Order Value\n",
      "0                  10%  1053.755365\n",
      "1         15% New User  1008.070707\n",
      "2            5% on App  1065.316940\n",
      "3         50 off Promo  1094.706468\n"
     ]
    }
   ],
   "source": [
    "print(average_order_value_per_discount_type)"
   ]
  },
  {
   "cell_type": "code",
   "execution_count": 83,
   "id": "ed9ff3cd-4938-4790-bbbf-15f2d635d1ef",
   "metadata": {},
   "outputs": [
    {
     "data": {
      "image/png": "[encoded data removed]",
      "text/plain": [
       "<Figure size 1000x600 with 1 Axes>"
      ]
     },
     "metadata": {},
     "output_type": "display_data"
    }
   ],
   "source": [
    "plt.figure(figsize=(10,6))\n",
    "plt.bar(average_order_value_per_discount_type['Discounts and Offers'],average_order_value_per_discount_type['Order Value'])\n",
    "plt.xlabel('discount_type')\n",
    "plt.ylabel('average order value')\n",
    "plt.title('average order value perdiscount type')\n",
    "plt.show()"
   ]
  },
  {
   "cell_type": "code",
   "execution_count": null,
   "id": "4b7cf4b5-40c1-423f-a586-89e5160a1280",
   "metadata": {},
   "outputs": [],
   "source": []
  },
  {
   "cell_type": "code",
   "execution_count": null,
   "id": "cffae52c-62fd-4282-9347-9428ab19f5ab",
   "metadata": {},
   "outputs": [],
   "source": []
  },
  {
   "cell_type": "markdown",
   "id": "9653a2be-4446-4aa0-bd44-266a47cf3281",
   "metadata": {},
   "source": [
    "### RESTAURANTS PERFORMANCE ANALYSIS"
   ]
  },
  {
   "cell_type": "code",
   "execution_count": 88,
   "id": "4dd50203-8c1d-4803-9637-ca4ddb7a9698",
   "metadata": {},
   "outputs": [
    {
     "data": {
      "text/html": [
       "<div>\n",
       "<style scoped>\n",
       "    .dataframe tbody tr th:only-of-type {\n",
       "        vertical-align: middle;\n",
       "    }\n",
       "\n",
       "    .dataframe tbody tr th {\n",
       "        vertical-align: top;\n",
       "    }\n",
       "\n",
       "    .dataframe thead th {\n",
       "        text-align: right;\n",
       "    }\n",
       "</style>\n",
       "<table border=\"1\" class=\"dataframe\">\n",
       "  <thead>\n",
       "    <tr style=\"text-align: right;\">\n",
       "      <th></th>\n",
       "      <th>Restaurant ID</th>\n",
       "      <th>Commission Fee</th>\n",
       "      <th>Order ID</th>\n",
       "    </tr>\n",
       "  </thead>\n",
       "  <tbody>\n",
       "    <tr>\n",
       "      <th>126</th>\n",
       "      <td>R2225</td>\n",
       "      <td>457</td>\n",
       "      <td>4</td>\n",
       "    </tr>\n",
       "    <tr>\n",
       "      <th>9</th>\n",
       "      <td>R2016</td>\n",
       "      <td>594</td>\n",
       "      <td>4</td>\n",
       "    </tr>\n",
       "    <tr>\n",
       "      <th>219</th>\n",
       "      <td>R2400</td>\n",
       "      <td>573</td>\n",
       "      <td>4</td>\n",
       "    </tr>\n",
       "    <tr>\n",
       "      <th>386</th>\n",
       "      <td>R2726</td>\n",
       "      <td>455</td>\n",
       "      <td>4</td>\n",
       "    </tr>\n",
       "    <tr>\n",
       "      <th>415</th>\n",
       "      <td>R2773</td>\n",
       "      <td>357</td>\n",
       "      <td>4</td>\n",
       "    </tr>\n",
       "  </tbody>\n",
       "</table>\n",
       "</div>"
      ],
      "text/plain": [
       "    Restaurant ID  Commission Fee  Order ID\n",
       "126         R2225             457         4\n",
       "9           R2016             594         4\n",
       "219         R2400             573         4\n",
       "386         R2726             455         4\n",
       "415         R2773             357         4"
      ]
     },
     "execution_count": 88,
     "metadata": {},
     "output_type": "execute_result"
    }
   ],
   "source": [
    "customerSpending= df.groupby('Restaurant ID').agg({'Commission Fee':'sum','Order ID':'count'}).reset_index()\n",
    "\n",
    "customerSpending.sort_values(by='Order ID', ascending = False).head()"
   ]
  },
  {
   "cell_type": "markdown",
   "id": "21d7619e-77c6-445b-a616-a2c19c8765e9",
   "metadata": {},
   "source": [
    "### REFUND ANALYSIS"
   ]
  },
  {
   "cell_type": "code",
   "execution_count": 91,
   "id": "99c50515-e8ec-48fa-813c-c8f4f19032e3",
   "metadata": {},
   "outputs": [
    {
     "data": {
      "text/plain": [
       "815"
      ]
     },
     "execution_count": 91,
     "metadata": {},
     "output_type": "execute_result"
    }
   ],
   "source": [
    "orders_refund = df['Refunds/Chargebacks'].notnull().sum()\n",
    "orders_refund"
   ]
  },
  {
   "cell_type": "code",
   "execution_count": 95,
   "id": "2909dc03-e19f-4f4b-ad94-b49a56aa16d6",
   "metadata": {},
   "outputs": [
    {
     "data": {
      "text/plain": [
       "Payment Method\n",
       "Cash on Delivery    292\n",
       "Credit Card         274\n",
       "Digital Wallet      249\n",
       "Name: count, dtype: int64"
      ]
     },
     "execution_count": 95,
     "metadata": {},
     "output_type": "execute_result"
    }
   ],
   "source": [
    "orders_refundd = df[df['Refunds/Chargebacks'].notnull()]['Payment Method'].value_counts()\n",
    "orders_refundd "
   ]
  },
  {
   "cell_type": "code",
   "execution_count": null,
   "id": "38c56faa-7c14-46f9-bb24-71dc874dce22",
   "metadata": {},
   "outputs": [],
   "source": []
  }
 ],
 "metadata": {
  "kernelspec": {
   "display_name": "Python [conda env:base] *",
   "language": "python",
   "name": "conda-base-py"
  },
  "language_info": {
   "codemirror_mode": {
    "name": "ipython",
    "version": 3
   },
   "file_extension": ".py",
   "mimetype": "text/x-python",
   "name": "python",
   "nbconvert_exporter": "python",
   "pygments_lexer": "ipython3",
   "version": "3.12.7"
  }
 },
 "nbformat": 4,
 "nbformat_minor": 5
}
